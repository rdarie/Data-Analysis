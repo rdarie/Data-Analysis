{
 "cells": [
  {
   "cell_type": "code",
   "execution_count": 1,
   "metadata": {
    "collapsed": true
   },
   "outputs": [],
   "source": [
    "insFilePath = 'C:/Users/radud/Desktop/NANOZ/INS/trial_3.txt'\n",
    "impedances = {i:[] for i in range(32)}"
   ]
  },
  {
   "cell_type": "code",
   "execution_count": 2,
   "metadata": {
    "collapsed": true
   },
   "outputs": [],
   "source": [
    "with open(insFilePath) as f:\n",
    "    for line in f:\n",
    "        idx = line.find('Impedance [')\n",
    "        if idx != -1:\n",
    "            elecIdx = line.split('[')[1].split(']')[0]\n",
    "            impVal = line.split('[')[1].split(':')[1]\n",
    "            impedances[int(elecIdx)].append(float(impVal))"
   ]
  },
  {
   "cell_type": "code",
   "execution_count": 3,
   "metadata": {
    "collapsed": true
   },
   "outputs": [],
   "source": [
    "insFilePath_2 = 'C:/Users/radud/Desktop/NANOZ/INS/trial_4.txt'"
   ]
  },
  {
   "cell_type": "code",
   "execution_count": 5,
   "metadata": {},
   "outputs": [],
   "source": [
    "with open(insFilePath_2) as f:\n",
    "    for line in f:\n",
    "        idx = line.find('Impedance [')\n",
    "        if idx != -1:\n",
    "            elecIdx = line.split('[')[1].split(']')[0]\n",
    "            impVal = line.split('[')[1].split(':')[1]\n",
    "            impedances[int(elecIdx) + 16].append(float(impVal))"
   ]
  },
  {
   "cell_type": "code",
   "execution_count": null,
   "metadata": {
    "collapsed": true
   },
   "outputs": [],
   "source": []
  },
  {
   "cell_type": "code",
   "execution_count": 6,
   "metadata": {},
   "outputs": [],
   "source": [
    "import numpy as np\n",
    "import matplotlib.pyplot as plt\n",
    "\n",
    "impedanceBar = []\n",
    "impedanceStd = [] \n",
    "elecIdx = []"
   ]
  },
  {
   "cell_type": "code",
   "execution_count": 7,
   "metadata": {
    "collapsed": true
   },
   "outputs": [],
   "source": [
    "for key, value in impedances.items():\n",
    "    elecIdx.append(key)\n",
    "    impedanceBar.append(np.mean(value))\n",
    "    impedanceStd.append(np.std(value))"
   ]
  },
  {
   "cell_type": "code",
   "execution_count": 8,
   "metadata": {
    "collapsed": true
   },
   "outputs": [],
   "source": [
    "fig, ax = plt.subplots()\n",
    "rects1 = ax.bar(elecIdx, impedanceBar, width = 0.3, color='r', yerr=impedanceStd)"
   ]
  },
  {
   "cell_type": "code",
   "execution_count": 9,
   "metadata": {},
   "outputs": [
    {
     "data": {
      "image/png": "[encoded data removed]",
      "text/plain": [
       "<matplotlib.figure.Figure at 0x1ee8e178cc0>"
      ]
     },
     "metadata": {},
     "output_type": "display_data"
    }
   ],
   "source": [
    "plt.show()"
   ]
  },
  {
   "cell_type": "code",
   "execution_count": null,
   "metadata": {
    "collapsed": true
   },
   "outputs": [],
   "source": []
  }
 ],
 "metadata": {
  "kernelspec": {
   "display_name": "Python 3",
   "language": "python",
   "name": "python3"
  },
  "language_info": {
   "codemirror_mode": {
    "name": "ipython",
    "version": 3
   },
   "file_extension": ".py",
   "mimetype": "text/x-python",
   "name": "python",
   "nbconvert_exporter": "python",
   "pygments_lexer": "ipython3",
   "version": "3.6.1"
  }
 },
 "nbformat": 4,
 "nbformat_minor": 2
}
