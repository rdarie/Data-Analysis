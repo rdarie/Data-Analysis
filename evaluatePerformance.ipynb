{
 "cells": [
  {
   "cell_type": "code",
   "execution_count": 1,
   "metadata": {
    "collapsed": false
   },
   "outputs": [],
   "source": [
    "from helper_functions import *\n",
    "from ProprioprostheticsBehavioralControl.helperFunctions import *\n",
    "import plotly.plotly as py\n",
    "import plotly.tools as tls\n",
    "import plotly.figure_factory as ff\n",
    "import plotly.graph_objs as go\n",
    "import plotly.dashboard_objs as dashboard\n",
    "\n",
    "fileDir = 'W:/ENG_Neuromotion_Shared/group/Proprioprosthetics/Training/Flywheel Logs/Murdoc'\n",
    "fileName = 'Murdoc_26_06_2017_15_32_04'"
   ]
  },
  {
   "cell_type": "code",
   "execution_count": 2,
   "metadata": {
    "collapsed": true
   },
   "outputs": [],
   "source": [
    "filePath = fileDir + '/' + 'Log_' + fileName + '.txt'\n",
    "log = readPiLog(filePath, names = ['Label', 'Time', 'Details'], zeroTime = True)"
   ]
  },
  {
   "cell_type": "code",
   "execution_count": 3,
   "metadata": {
    "collapsed": false
   },
   "outputs": [
    {
     "data": {
      "text/html": [
       "<iframe id=\"igraph\" scrolling=\"no\" style=\"border:none;\" seamless=\"seamless\" src=\"https://plot.ly/~radudarie/168.embed\" height=\"350px\" width=\"100%\"></iframe>"
      ],
      "text/plain": [
       "<plotly.tools.PlotlyDisplay object>"
      ]
     },
     "execution_count": 3,
     "metadata": {},
     "output_type": "execute_result"
    }
   ],
   "source": [
    "counts = pd.DataFrame(log['Label'].value_counts())\n",
    "table = ff.create_table(counts, index = True)\n",
    "tableUrl = py.plot(table, filename= fileName + '/buttonPressSummary',fileopt=\"overwrite\", sharing='public', auto_open=False)\n",
    "py.iplot(table, filename= fileName + '/buttonPressSummary',fileopt=\"overwrite\", sharing='public')"
   ]
  },
  {
   "cell_type": "code",
   "execution_count": 4,
   "metadata": {
    "collapsed": false
   },
   "outputs": [
    {
     "data": {
      "text/html": [
       "<iframe id=\"igraph\" scrolling=\"no\" style=\"border:none;\" seamless=\"seamless\" src=\"https://plot.ly/~radudarie/170.embed\" height=\"525px\" width=\"100%\"></iframe>"
      ],
      "text/plain": [
       "<plotly.tools.PlotlyDisplay object>"
      ]
     },
     "execution_count": 4,
     "metadata": {},
     "output_type": "execute_result"
    }
   ],
   "source": [
    "data = [go.Bar(\n",
    "            x=list(counts.index),\n",
    "            y=counts.values\n",
    "    )]\n",
    "\n",
    "barUrl = py.plot(data, filename= fileName + '/buttonPressBar',fileopt=\"overwrite\", sharing='public', auto_open=False)\n",
    "py.iplot(data, filename= fileName + '/buttonPressBar',fileopt=\"overwrite\", sharing='public')"
   ]
  },
  {
   "cell_type": "code",
   "execution_count": 5,
   "metadata": {
    "collapsed": false
   },
   "outputs": [
    {
     "data": {
      "text/html": [
       "<iframe id=\"igraph\" scrolling=\"no\" style=\"border:none;\" seamless=\"seamless\" src=\"https://plot.ly/~radudarie/172.embed\" height=\"525px\" width=\"100%\"></iframe>"
      ],
      "text/plain": [
       "<plotly.tools.PlotlyDisplay object>"
      ]
     },
     "execution_count": 5,
     "metadata": {},
     "output_type": "execute_result"
    }
   ],
   "source": [
    "plotNames = ['trial_start', 'event', 'good']\n",
    "fi = plot_events_raster(log, plotNames, collapse = True, usePlotly = True)\n",
    "\n",
    "rasterUrl = py.plot(fi, filename=fileName + '/buttonPressRaster',fileopt=\"overwrite\", sharing='public', auto_open=False)\n",
    "py.iplot(fi, filename=fileName + '/buttonPressRaster',fileopt=\"overwrite\", sharing='public')"
   ]
  },
  {
   "cell_type": "code",
   "execution_count": 6,
   "metadata": {
    "collapsed": false
   },
   "outputs": [],
   "source": [
    "existingDBoards = py.dashboard_ops.get_dashboard_names()\n",
    "\n",
    "if fileName + '_dashboard' in existingDBoards:\n",
    "    # If already exists, plots were updated above, just get the name\n",
    "    dboard = py.dashboard_ops.get_dashboard(fileName + '_dashboard')\n",
    "else:\n",
    "    # If not, create the dashboard\n",
    "    my_dboard = dashboard.Dashboard()\n",
    "    \n",
    "    fileIdBar = fileId_from_url(barUrl)\n",
    "    fileIdRaster = fileId_from_url(rasterUrl)\n",
    "\n",
    "    box_a = {\n",
    "        'type': 'box',\n",
    "        'boxType': 'plot',\n",
    "        'fileId': fileIdBar,\n",
    "        'title': 'BarPlot'\n",
    "    }\n",
    "    \n",
    "    box_b = {\n",
    "        'type': 'box',\n",
    "        'boxType': 'plot',\n",
    "        'fileId': fileIdRaster,\n",
    "        'title': 'RasterPlot'\n",
    "    }\n",
    "    \n",
    "    my_dboard.insert(box_a)\n",
    "    my_dboard.insert(box_b, 'above', 1)\n",
    "    \n",
    "    dboardURL = py.dashboard_ops.upload(my_dboard, filename = fileName + '_dashboard', auto_open = False)\n",
    "    #dboardID = fileId_from_url(dboardURL)\n",
    "    "
   ]
  },
  {
   "cell_type": "code",
   "execution_count": 7,
   "metadata": {
    "collapsed": false
   },
   "outputs": [],
   "source": [
    " if dboardURL is not None:\n",
    "    credentials = get_gsheets_credentials()\n",
    "    http = credentials.authorize(httplib2.Http())\n",
    "    discoveryUrl = ('https://sheets.googleapis.com/$discovery/rest?'\n",
    "                    'version=v4')\n",
    "    service = discovery.build('sheets', 'v4', http=http,\n",
    "                              discoveryServiceUrl=discoveryUrl)\n",
    "\n",
    "    spreadsheetId = '1BWjBqbtoVr9j6dU_7eHp-bQMJApNn8Wkl_N1jv20faE'\n",
    "    range_name = 'Sheet1!I1'\n",
    "    valueInputOption = 'USER_ENTERED'\n",
    "\n",
    "    body = {\n",
    "      'values': [['=MATCH(\\\"'+ fileName + '\\\",H:H,0)']]\n",
    "    }\n",
    "\n",
    "    result = service.spreadsheets().values().update(\n",
    "        spreadsheetId = spreadsheetId, range=range_name,\n",
    "        valueInputOption=valueInputOption, body=body).execute()\n",
    "\n",
    "    matchingIdx = service.spreadsheets().values().get(\n",
    "        spreadsheetId=spreadsheetId, range=range_name).execute()\n",
    "\n",
    "    put_range_name = 'Sheet1!D' + matchingIdx['values'][0][0]\n",
    "\n",
    "    body = {\n",
    "      'values': [[dboardURL]]\n",
    "    }\n",
    "\n",
    "    result = service.spreadsheets().values().update(\n",
    "        spreadsheetId = spreadsheetId, range=put_range_name,\n",
    "        valueInputOption=valueInputOption, body=body).execute()\n"
   ]
  },
  {
   "cell_type": "code",
   "execution_count": 8,
   "metadata": {
    "collapsed": false
   },
   "outputs": [
    {
     "data": {
      "text/plain": [
       "'https://plot.ly/~radudarie/174/untitled-dashboard/'"
      ]
     },
     "execution_count": 8,
     "metadata": {},
     "output_type": "execute_result"
    }
   ],
   "source": [
    "dboardURL"
   ]
  },
  {
   "cell_type": "code",
   "execution_count": null,
   "metadata": {
    "collapsed": true
   },
   "outputs": [],
   "source": []
  }
 ],
 "metadata": {
  "kernelspec": {
   "display_name": "Python 3",
   "language": "python",
   "name": "python3"
  },
  "language_info": {
   "codemirror_mode": {
    "name": "ipython",
    "version": 3
   },
   "file_extension": ".py",
   "mimetype": "text/x-python",
   "name": "python",
   "nbconvert_exporter": "python",
   "pygments_lexer": "ipython3",
   "version": "3.4.5"
  }
 },
 "nbformat": 4,
 "nbformat_minor": 2
}
